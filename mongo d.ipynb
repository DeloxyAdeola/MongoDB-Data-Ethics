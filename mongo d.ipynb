{
 "cells": [
  {
   "cell_type": "code",
   "execution_count": 29,
   "id": "6ac593b2",
   "metadata": {},
   "outputs": [],
   "source": [
    "from pymongo import MongoClient\n",
    "mongo = MongoClient(port=27017)"
   ]
  },
  {
   "cell_type": "code",
   "execution_count": 30,
   "id": "c4016bd1",
   "metadata": {},
   "outputs": [
    {
     "name": "stdout",
     "output_type": "stream",
     "text": [
      "['admin', 'config', 'local', 'my_db']\n"
     ]
    }
   ],
   "source": [
    "print(mongo.list_database_names())"
   ]
  },
  {
   "cell_type": "code",
   "execution_count": 31,
   "id": "70ba5197",
   "metadata": {},
   "outputs": [],
   "source": [
    "my_first_db = mongo['my_db']"
   ]
  },
  {
   "cell_type": "code",
   "execution_count": 32,
   "id": "11288f5f",
   "metadata": {},
   "outputs": [
    {
     "name": "stdout",
     "output_type": "stream",
     "text": [
      "['admin', 'config', 'local', 'my_db']\n"
     ]
    }
   ],
   "source": [
    "print(mongo.list_database_names())"
   ]
  },
  {
   "cell_type": "code",
   "execution_count": 33,
   "id": "ada03a7a",
   "metadata": {},
   "outputs": [
    {
     "ename": "NameError",
     "evalue": "name 'my_db' is not defined",
     "output_type": "error",
     "traceback": [
      "\u001b[1;31m---------------------------------------------------------------------------\u001b[0m",
      "\u001b[1;31mNameError\u001b[0m                                 Traceback (most recent call last)",
      "Input \u001b[1;32mIn [33]\u001b[0m, in \u001b[0;36m<cell line: 2>\u001b[1;34m()\u001b[0m\n\u001b[0;32m      1\u001b[0m my_first_collection \u001b[38;5;241m=\u001b[39m my_first_db[\u001b[38;5;124m'\u001b[39m\u001b[38;5;124mmy_collection\u001b[39m\u001b[38;5;124m'\u001b[39m]\n\u001b[1;32m----> 2\u001b[0m \u001b[43mmy_db\u001b[49m\u001b[38;5;241m.\u001b[39mlist_collection_names()\n",
      "\u001b[1;31mNameError\u001b[0m: name 'my_db' is not defined"
     ]
    }
   ],
   "source": [
    "my_first_collection = my_first_db['my_collection']\n",
    "my_db.list_collection_names()"
   ]
  },
  {
   "cell_type": "code",
   "execution_count": 42,
   "id": "0a1e0520",
   "metadata": {},
   "outputs": [],
   "source": [
    "my_first_collection.insert_one({'name': 'Mickey'})\n",
    "my_first_collection.insert_one({'name':'Minnie', 'age': '90'})\n",
    "goofy = {'_id':3, 'name': 'Goofy', 'age': 87, 'species': 'dog'}"
   ]
  },
  {
   "cell_type": "code",
   "execution_count": 43,
   "id": "6922e1d4",
   "metadata": {},
   "outputs": [
    {
     "name": "stdout",
     "output_type": "stream",
     "text": [
      "['admin', 'config', 'local', 'my_db']\n"
     ]
    },
    {
     "ename": "NameError",
     "evalue": "name 'my_db' is not defined",
     "output_type": "error",
     "traceback": [
      "\u001b[1;31m---------------------------------------------------------------------------\u001b[0m",
      "\u001b[1;31mNameError\u001b[0m                                 Traceback (most recent call last)",
      "Input \u001b[1;32mIn [43]\u001b[0m, in \u001b[0;36m<cell line: 2>\u001b[1;34m()\u001b[0m\n\u001b[0;32m      1\u001b[0m \u001b[38;5;28mprint\u001b[39m(mongo\u001b[38;5;241m.\u001b[39mlist_database_names())\n\u001b[1;32m----> 2\u001b[0m \u001b[38;5;28mprint\u001b[39m(\u001b[43mmy_db\u001b[49m\u001b[38;5;241m.\u001b[39mlist_collection_names())\n",
      "\u001b[1;31mNameError\u001b[0m: name 'my_db' is not defined"
     ]
    }
   ],
   "source": [
    "print(mongo.list_database_names())\n",
    "print(my_db.list_collection_names())"
   ]
  },
  {
   "cell_type": "code",
   "execution_count": null,
   "id": "c3593c6d",
   "metadata": {},
   "outputs": [],
   "source": []
  },
  {
   "cell_type": "code",
   "execution_count": 44,
   "id": "e095f5d0",
   "metadata": {},
   "outputs": [
    {
     "name": "stdout",
     "output_type": "stream",
     "text": [
      "{'_id': ObjectId('6358a494d1939cc2a1848df5'), 'name': 'Mickey'}\n",
      "{'_id': ObjectId('6358a5e4d1939cc2a1848df7'), 'name': 'Mickey'}\n",
      "{'_id': ObjectId('6358a69fd1939cc2a1848df9'), 'name': 'Mickey'}\n",
      "{'_id': ObjectId('6358a8e0d1939cc2a1848dfa'), 'name': 'Minnie', 'age': 90}\n",
      "{'_id': ObjectId('6358aa24d1939cc2a1848dfb'), 'name': 'Mickey'}\n",
      "{'_id': ObjectId('6358aa24d1939cc2a1848dfc'), 'name': 'Minnie', 'age': '90'}\n",
      "{'_id': ObjectId('6358aa2fd1939cc2a1848dfd'), 'name': 'Mickey'}\n",
      "{'_id': ObjectId('6358aa2fd1939cc2a1848dfe'), 'name': 'Minnie', 'age': '90'}\n"
     ]
    }
   ],
   "source": [
    "results = my_first_collection.find()\n",
    "for result in results:\n",
    "    print(result)"
   ]
  },
  {
   "cell_type": "code",
   "execution_count": 40,
   "id": "184bd256",
   "metadata": {},
   "outputs": [],
   "source": [
    "goofy = {'_id':3, 'name': 'Goofy', 'age': 87, 'species': 'dog'}"
   ]
  },
  {
   "cell_type": "code",
   "execution_count": 46,
   "id": "6e1df8ee",
   "metadata": {},
   "outputs": [
    {
     "data": {
      "text/plain": [
       "<pymongo.results.InsertManyResult at 0x229d6ebf130>"
      ]
     },
     "execution_count": 46,
     "metadata": {},
     "output_type": "execute_result"
    }
   ],
   "source": [
    "animals = [{'name': 'Donald', 'species': 'duck'}, {'name': 'Daisy', 'species': 'duck'}]\n",
    "my_first_collection.insert_many(animals)"
   ]
  },
  {
   "cell_type": "code",
   "execution_count": 47,
   "id": "d6b642df",
   "metadata": {},
   "outputs": [
    {
     "name": "stdout",
     "output_type": "stream",
     "text": [
      "{'_id': ObjectId('6358a494d1939cc2a1848df5'), 'name': 'Mickey'}\n",
      "{'_id': ObjectId('6358a5e4d1939cc2a1848df7'), 'name': 'Mickey'}\n",
      "{'_id': ObjectId('6358a69fd1939cc2a1848df9'), 'name': 'Mickey'}\n",
      "{'_id': ObjectId('6358a8e0d1939cc2a1848dfa'), 'name': 'Minnie', 'age': 90}\n",
      "{'_id': ObjectId('6358aa24d1939cc2a1848dfb'), 'name': 'Mickey'}\n",
      "{'_id': ObjectId('6358aa24d1939cc2a1848dfc'), 'name': 'Minnie', 'age': '90'}\n",
      "{'_id': ObjectId('6358aa2fd1939cc2a1848dfd'), 'name': 'Mickey'}\n",
      "{'_id': ObjectId('6358aa2fd1939cc2a1848dfe'), 'name': 'Minnie', 'age': '90'}\n",
      "{'_id': ObjectId('6358aab2d1939cc2a1848dff'), 'name': 'Donald', 'species': 'duck'}\n",
      "{'_id': ObjectId('6358aab2d1939cc2a1848e00'), 'name': 'Daisy', 'species': 'duck'}\n"
     ]
    }
   ],
   "source": [
    "results = my_first_collection.find()\n",
    "for result in results:\n",
    "    print(result)"
   ]
  },
  {
   "cell_type": "code",
   "execution_count": 48,
   "id": "6b7ad347",
   "metadata": {},
   "outputs": [
    {
     "name": "stdout",
     "output_type": "stream",
     "text": [
      "{'_id': ObjectId('6358aab2d1939cc2a1848dff'), 'name': 'Donald', 'species': 'duck'}\n"
     ]
    }
   ],
   "source": [
    " query = {'name': 'Donald'}\n",
    "results = my_first_collection.find(query)\n",
    "for result in results:\n",
    "    print(result)"
   ]
  },
  {
   "cell_type": "code",
   "execution_count": null,
   "id": "0e93f357",
   "metadata": {},
   "outputs": [],
   "source": []
  },
  {
   "cell_type": "code",
   "execution_count": 50,
   "id": "424e7790",
   "metadata": {},
   "outputs": [
    {
     "data": {
      "text/plain": [
       "[{'_id': ObjectId('6358aab2d1939cc2a1848dff'),\n",
       "  'name': 'Donald',\n",
       "  'species': 'duck'},\n",
       " {'_id': ObjectId('6358aab2d1939cc2a1848e00'),\n",
       "  'name': 'Daisy',\n",
       "  'species': 'duck'}]"
      ]
     },
     "execution_count": 50,
     "metadata": {},
     "output_type": "execute_result"
    }
   ],
   "source": [
    "query = {'species': 'duck'}\n",
    "results = my_first_collection.find(query)\n",
    "[result for result in results]"
   ]
  },
  {
   "cell_type": "code",
   "execution_count": 49,
   "id": "9d6d6b24",
   "metadata": {},
   "outputs": [
    {
     "data": {
      "text/plain": [
       "[{'_id': ObjectId('6358a8e0d1939cc2a1848dfa'), 'name': 'Minnie', 'age': 90}]"
      ]
     },
     "execution_count": 49,
     "metadata": {},
     "output_type": "execute_result"
    }
   ],
   "source": [
    "query = {'age': {'$gt':85}}\n",
    "results = my_first_collection.find(query)\n",
    "[result for result in results]"
   ]
  },
  {
   "cell_type": "code",
   "execution_count": 51,
   "id": "9cbd58df",
   "metadata": {},
   "outputs": [
    {
     "data": {
      "text/plain": [
       "[{'_id': ObjectId('6358a8e0d1939cc2a1848dfa'), 'name': 'Minnie', 'age': 90}]"
      ]
     },
     "execution_count": 51,
     "metadata": {},
     "output_type": "execute_result"
    }
   ],
   "source": [
    "query = {'age': {'$gt':88}}\n",
    "results = my_first_collection.find(query)\n",
    "[result for result in results]"
   ]
  },
  {
   "cell_type": "code",
   "execution_count": 54,
   "id": "3bf828da",
   "metadata": {},
   "outputs": [
    {
     "data": {
      "text/plain": [
       "[]"
      ]
     },
     "execution_count": 54,
     "metadata": {},
     "output_type": "execute_result"
    }
   ],
   "source": [
    "query = {'age': {'$lt':88}}\n",
    "results = my_first_collection.find(query)\n",
    "[result for result in results]"
   ]
  },
  {
   "cell_type": "code",
   "execution_count": 58,
   "id": "87cce6b9",
   "metadata": {},
   "outputs": [],
   "source": [
    "query = {'name': 'e'}\n",
    "results = my_first_collection.find(query)\n",
    "for result in results:\n",
    "    print(result)"
   ]
  },
  {
   "cell_type": "code",
   "execution_count": 59,
   "id": "b1f3cd6b",
   "metadata": {},
   "outputs": [
    {
     "data": {
      "text/plain": [
       "[{'_id': ObjectId('6358a494d1939cc2a1848df5'), 'name': 'Mickey Mouse'},\n",
       " {'_id': ObjectId('6358a5e4d1939cc2a1848df7'), 'name': 'Mickey'},\n",
       " {'_id': ObjectId('6358a69fd1939cc2a1848df9'), 'name': 'Mickey'},\n",
       " {'_id': ObjectId('6358a8e0d1939cc2a1848dfa'), 'name': 'Minnie', 'age': 90},\n",
       " {'_id': ObjectId('6358aa24d1939cc2a1848dfb'), 'name': 'Mickey'},\n",
       " {'_id': ObjectId('6358aa24d1939cc2a1848dfc'), 'name': 'Minnie', 'age': '90'},\n",
       " {'_id': ObjectId('6358aa2fd1939cc2a1848dfd'), 'name': 'Mickey'},\n",
       " {'_id': ObjectId('6358aa2fd1939cc2a1848dfe'), 'name': 'Minnie', 'age': '90'},\n",
       " {'_id': ObjectId('6358aab2d1939cc2a1848dff'),\n",
       "  'name': 'Donald',\n",
       "  'species': 'duck'},\n",
       " {'_id': ObjectId('6358aab2d1939cc2a1848e00'),\n",
       "  'name': 'Daisy',\n",
       "  'species': 'duck'}]"
      ]
     },
     "execution_count": 59,
     "metadata": {},
     "output_type": "execute_result"
    }
   ],
   "source": [
    "query = {'name': 'Mickey'}\n",
    "update = {'$set': {'name': 'Mickey Mouse'}}\n",
    "my_first_collection.update_one(query, update)\n",
    "[r for r in my_first_collection.find()]"
   ]
  },
  {
   "cell_type": "code",
   "execution_count": 60,
   "id": "02aee9c0",
   "metadata": {},
   "outputs": [
    {
     "data": {
      "text/plain": [
       "[{'_id': ObjectId('6358a5e4d1939cc2a1848df7'), 'name': 'Mickey'},\n",
       " {'_id': ObjectId('6358a69fd1939cc2a1848df9'), 'name': 'Mickey'},\n",
       " {'_id': ObjectId('6358a8e0d1939cc2a1848dfa'), 'name': 'Minnie', 'age': 90},\n",
       " {'_id': ObjectId('6358aa24d1939cc2a1848dfb'), 'name': 'Mickey'},\n",
       " {'_id': ObjectId('6358aa24d1939cc2a1848dfc'), 'name': 'Minnie', 'age': '90'},\n",
       " {'_id': ObjectId('6358aa2fd1939cc2a1848dfd'), 'name': 'Mickey'},\n",
       " {'_id': ObjectId('6358aa2fd1939cc2a1848dfe'), 'name': 'Minnie', 'age': '90'},\n",
       " {'_id': ObjectId('6358aab2d1939cc2a1848dff'),\n",
       "  'name': 'Donald',\n",
       "  'species': 'duck'},\n",
       " {'_id': ObjectId('6358aab2d1939cc2a1848e00'),\n",
       "  'name': 'Daisy',\n",
       "  'species': 'duck'}]"
      ]
     },
     "execution_count": 60,
     "metadata": {},
     "output_type": "execute_result"
    }
   ],
   "source": [
    "query = {'name': 'Mickey Mouse'}\n",
    "my_first_collection.delete_one(query)\n",
    "[r for r in my_first_collection.find()]"
   ]
  },
  {
   "cell_type": "code",
   "execution_count": 61,
   "id": "f242e7da",
   "metadata": {},
   "outputs": [
    {
     "data": {
      "text/plain": [
       "[{'_id': ObjectId('6358a5e4d1939cc2a1848df7'), 'name': 'Mickey'},\n",
       " {'_id': ObjectId('6358a69fd1939cc2a1848df9'), 'name': 'Mickey'},\n",
       " {'_id': ObjectId('6358a8e0d1939cc2a1848dfa'), 'name': 'Minnie', 'age': 90},\n",
       " {'_id': ObjectId('6358aa24d1939cc2a1848dfb'), 'name': 'Mickey'},\n",
       " {'_id': ObjectId('6358aa24d1939cc2a1848dfc'), 'name': 'Minnie', 'age': '90'},\n",
       " {'_id': ObjectId('6358aa2fd1939cc2a1848dfd'), 'name': 'Mickey'},\n",
       " {'_id': ObjectId('6358aa2fd1939cc2a1848dfe'), 'name': 'Minnie', 'age': '90'},\n",
       " {'_id': ObjectId('6358aab2d1939cc2a1848dff'),\n",
       "  'name': 'Donald',\n",
       "  'species': 'duck'},\n",
       " {'_id': ObjectId('6358aab2d1939cc2a1848e00'),\n",
       "  'name': 'Daisy',\n",
       "  'species': 'duck'}]"
      ]
     },
     "execution_count": 61,
     "metadata": {},
     "output_type": "execute_result"
    }
   ],
   "source": [
    "query = {'name': 'Mickey Mouse'}\n",
    "my_first_collection.delete_one(query)\n",
    "[r for r in my_first_collection.find()]"
   ]
  },
  {
   "cell_type": "code",
   "execution_count": 63,
   "id": "63035a67",
   "metadata": {},
   "outputs": [
    {
     "data": {
      "text/plain": [
       "[{'_id': ObjectId('6358a5e4d1939cc2a1848df7'), 'name': 'Mickey'},\n",
       " {'_id': ObjectId('6358a69fd1939cc2a1848df9'), 'name': 'Mickey'},\n",
       " {'_id': ObjectId('6358a8e0d1939cc2a1848dfa'), 'name': 'Minnie', 'age': 90},\n",
       " {'_id': ObjectId('6358aa24d1939cc2a1848dfb'), 'name': 'Mickey'},\n",
       " {'_id': ObjectId('6358aa24d1939cc2a1848dfc'), 'name': 'Minnie', 'age': '90'},\n",
       " {'_id': ObjectId('6358aa2fd1939cc2a1848dfd'), 'name': 'Mickey'},\n",
       " {'_id': ObjectId('6358aa2fd1939cc2a1848dfe'), 'name': 'Minnie', 'age': '90'}]"
      ]
     },
     "execution_count": 63,
     "metadata": {},
     "output_type": "execute_result"
    }
   ],
   "source": [
    "query = {'species': 'duck'}\n",
    "my_first_collection.delete_many(query)\n",
    "[r for r in my_first_collection.find()]"
   ]
  },
  {
   "cell_type": "code",
   "execution_count": 65,
   "id": "903add10",
   "metadata": {},
   "outputs": [],
   "source": [
    "mongo.drop_database('my_db')"
   ]
  },
  {
   "cell_type": "code",
   "execution_count": 66,
   "id": "84a398b9",
   "metadata": {},
   "outputs": [
    {
     "data": {
      "text/plain": [
       "['admin', 'config', 'local']"
      ]
     },
     "execution_count": 66,
     "metadata": {},
     "output_type": "execute_result"
    }
   ],
   "source": [
    "mongo.list_database_names()"
   ]
  },
  {
   "cell_type": "code",
   "execution_count": null,
   "id": "67940642",
   "metadata": {},
   "outputs": [],
   "source": []
  }
 ],
 "metadata": {
  "kernelspec": {
   "display_name": "PythonData",
   "language": "python",
   "name": "pythondata"
  },
  "language_info": {
   "codemirror_mode": {
    "name": "ipython",
    "version": 3
   },
   "file_extension": ".py",
   "mimetype": "text/x-python",
   "name": "python",
   "nbconvert_exporter": "python",
   "pygments_lexer": "ipython3",
   "version": "3.9.12"
  }
 },
 "nbformat": 4,
 "nbformat_minor": 5
}
